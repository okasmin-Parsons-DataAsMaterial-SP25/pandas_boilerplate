{
 "cells": [
  {
   "cell_type": "markdown",
   "metadata": {},
   "source": [
    "# Get started with pandas\n",
    "\n"
   ]
  },
  {
   "cell_type": "code",
   "execution_count": null,
   "metadata": {},
   "outputs": [],
   "source": [
    "import pandas as pd\n",
    "import matplotlib.pyplot as plt"
   ]
  },
  {
   "cell_type": "markdown",
   "metadata": {},
   "source": [
    "### Import data"
   ]
  },
  {
   "cell_type": "code",
   "execution_count": null,
   "metadata": {},
   "outputs": [],
   "source": [
    "df = pd.read_csv(\"netflix_titles.csv\")"
   ]
  },
  {
   "cell_type": "markdown",
   "metadata": {},
   "source": [
    "### Basic data exploration"
   ]
  },
  {
   "cell_type": "code",
   "execution_count": null,
   "metadata": {},
   "outputs": [],
   "source": [
    "# first 10 rows\n",
    "df.head(10)\n",
    "\n",
    "# last 10 rows\n",
    "# df.tail(10)\n",
    "\n",
    "# see what the columns are\n",
    "# df.columns\n",
    "\n",
    "# check data types for each column\n",
    "# df.dtypes\n",
    "\n",
    "# see basic stats (for number columns)\n",
    "# df.describe()"
   ]
  },
  {
   "cell_type": "markdown",
   "metadata": {},
   "source": [
    "### Cleaning"
   ]
  },
  {
   "cell_type": "code",
   "execution_count": null,
   "metadata": {},
   "outputs": [],
   "source": [
    "# check for null values\n",
    "# df.isnull().values.any()\n",
    "\n",
    "# check for NaN values\n",
    "# df.isna()\n",
    "df.isna().sum()\t"
   ]
  },
  {
   "cell_type": "code",
   "execution_count": null,
   "metadata": {},
   "outputs": [],
   "source": [
    "# create a new df with all rows that have NaN values for director removed\n",
    "df_cleaned = df.dropna(subset=[\"director\"])\n",
    "\n",
    "# check for NaN values again - director should have 0 now\n",
    "df_cleaned.isna().sum()\t"
   ]
  },
  {
   "cell_type": "markdown",
   "metadata": {},
   "source": [
    "### Sorting"
   ]
  },
  {
   "cell_type": "code",
   "execution_count": null,
   "metadata": {},
   "outputs": [],
   "source": [
    "# create a new df with values sorted in a certain order \n",
    "\n",
    "# sort by director, then by year\n",
    "# director will be a-z and year will be largest to smallest\n",
    "# put NaN values at the end\n",
    "df_sorted = df.sort_values(by=[\"director\", \"release_year\"], ascending=[True, False], na_position=\"last\")\n",
    "df_sorted"
   ]
  },
  {
   "cell_type": "markdown",
   "metadata": {},
   "source": [
    "### Grouping"
   ]
  },
  {
   "cell_type": "code",
   "execution_count": null,
   "metadata": {},
   "outputs": [],
   "source": [
    "# create a new df that has rows grouped by director and a count of how many that director has\n",
    "df_director_count = df.groupby(\"director\").size().sort_values(ascending=False)\n",
    "df_director_count"
   ]
  },
  {
   "cell_type": "code",
   "execution_count": null,
   "metadata": {},
   "outputs": [],
   "source": [
    "# create a new df that only includes entries with \"TV Dramas\" included in the listed_in column\n",
    "df_tv_dramas = df[df[\"listed_in\"].str.contains(\"TV Dramas\", na=False)]\n",
    "df_tv_dramas"
   ]
  },
  {
   "cell_type": "markdown",
   "metadata": {},
   "source": [
    "### Basic plots with matplotlib"
   ]
  },
  {
   "cell_type": "code",
   "execution_count": null,
   "metadata": {},
   "outputs": [],
   "source": [
    "# create a basic pie chart with values from the \"type\" column\n",
    "\n",
    "# get the data\n",
    "type_counts = df[\"type\"].value_counts()\n",
    "\n",
    "# setup the chart\n",
    "plt.figure(figsize=(4,4))  # figure size\n",
    "plt.pie(type_counts, labels=type_counts.index, autopct='%1.1f%%')\n",
    "plt.title(\"Distribution of Netflix Movies & TV Shows\")\n",
    "\n",
    "# show the chart\n",
    "plt.show()"
   ]
  },
  {
   "cell_type": "markdown",
   "metadata": {},
   "source": []
  }
 ],
 "metadata": {
  "kernelspec": {
   "display_name": "Python 3",
   "language": "python",
   "name": "python3"
  },
  "language_info": {
   "codemirror_mode": {
    "name": "ipython",
    "version": 3
   },
   "file_extension": ".py",
   "mimetype": "text/x-python",
   "name": "python",
   "nbconvert_exporter": "python",
   "pygments_lexer": "ipython3",
   "version": "3.10.16"
  }
 },
 "nbformat": 4,
 "nbformat_minor": 2
}
